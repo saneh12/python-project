{
 "cells": [
  {
   "cell_type": "code",
   "execution_count": 1,
   "id": "8d2fae6a",
   "metadata": {
    "scrolled": true
   },
   "outputs": [],
   "source": [
    "import pandas as pd\n",
    "import random\n",
    "\n",
    "num_pin_codes = 30000\n",
    "num_merchants = 10000000\n",
    "\n",
    "pin_codes = [str(random.randint(100000, 999999)) for _ in range(num_pin_codes)]\n",
    "\n",
    "pin_codes_repeated = [pin for pin in pin_codes for _ in range(2*num_merchants // (3*num_pin_codes))]\n",
    "\n",
    "merchants = [f'Merchant_{i+1}' for i in range(len(pin_codes_repeated))]\n",
    "\n",
    "df = pd.DataFrame({'PINCode': pin_codes_repeated, 'Merchant': merchants})\n",
    "\n",
    "df.to_csv('datasetondc5.csv', index=False)"
   ]
  },
  {
   "cell_type": "code",
   "execution_count": 2,
   "id": "441cb714",
   "metadata": {},
   "outputs": [
    {
     "data": {
      "text/html": [
       "<div>\n",
       "<style scoped>\n",
       "    .dataframe tbody tr th:only-of-type {\n",
       "        vertical-align: middle;\n",
       "    }\n",
       "\n",
       "    .dataframe tbody tr th {\n",
       "        vertical-align: top;\n",
       "    }\n",
       "\n",
       "    .dataframe thead th {\n",
       "        text-align: right;\n",
       "    }\n",
       "</style>\n",
       "<table border=\"1\" class=\"dataframe\">\n",
       "  <thead>\n",
       "    <tr style=\"text-align: right;\">\n",
       "      <th></th>\n",
       "      <th>PINCode</th>\n",
       "      <th>Merchant</th>\n",
       "    </tr>\n",
       "  </thead>\n",
       "  <tbody>\n",
       "    <tr>\n",
       "      <th>0</th>\n",
       "      <td>516146</td>\n",
       "      <td>Merchant_1</td>\n",
       "    </tr>\n",
       "    <tr>\n",
       "      <th>1</th>\n",
       "      <td>516146</td>\n",
       "      <td>Merchant_2</td>\n",
       "    </tr>\n",
       "    <tr>\n",
       "      <th>2</th>\n",
       "      <td>516146</td>\n",
       "      <td>Merchant_3</td>\n",
       "    </tr>\n",
       "    <tr>\n",
       "      <th>3</th>\n",
       "      <td>516146</td>\n",
       "      <td>Merchant_4</td>\n",
       "    </tr>\n",
       "    <tr>\n",
       "      <th>4</th>\n",
       "      <td>516146</td>\n",
       "      <td>Merchant_5</td>\n",
       "    </tr>\n",
       "  </tbody>\n",
       "</table>\n",
       "</div>"
      ],
      "text/plain": [
       "   PINCode    Merchant\n",
       "0   516146  Merchant_1\n",
       "1   516146  Merchant_2\n",
       "2   516146  Merchant_3\n",
       "3   516146  Merchant_4\n",
       "4   516146  Merchant_5"
      ]
     },
     "execution_count": 2,
     "metadata": {},
     "output_type": "execute_result"
    }
   ],
   "source": [
    "import pandas as pd\n",
    "df = pd.read_csv('datasetondc5.csv')\n",
    "df.head()"
   ]
  },
  {
   "cell_type": "code",
   "execution_count": 3,
   "id": "e4ebdf93",
   "metadata": {
    "scrolled": true
   },
   "outputs": [
    {
     "data": {
      "text/plain": [
       "29509"
      ]
     },
     "execution_count": 3,
     "metadata": {},
     "output_type": "execute_result"
    }
   ],
   "source": [
    "df.PINCode.nunique(dropna = True)"
   ]
  },
  {
   "cell_type": "code",
   "execution_count": 4,
   "id": "cb19578d",
   "metadata": {},
   "outputs": [
    {
     "data": {
      "text/plain": [
       "13320000"
      ]
     },
     "execution_count": 4,
     "metadata": {},
     "output_type": "execute_result"
    }
   ],
   "source": [
    "df.Merchant.nunique(dropna = True)"
   ]
  },
  {
   "cell_type": "code",
   "execution_count": 6,
   "id": "d7672931",
   "metadata": {},
   "outputs": [
    {
     "name": "stdout",
     "output_type": "stream",
     "text": [
      "runtime:63.89485454559326 seconds\n"
     ]
    }
   ],
   "source": [
    "import pandas as pd\n",
    "import time\n",
    "import csv\n",
    "start = time.time()\n",
    "#df = pd.read_csv('datasetondc5.csv')\n",
    "input_file = csv.DictReader(open(\"datasetondc5.csv\"))\n",
    "hashmap = {}\n",
    "\n",
    "for row in input_file:\n",
    "    pincode = int(row['PINCode'])\n",
    "    merchant = row['Merchant']\n",
    "\n",
    "    if pincode in hashmap:\n",
    "        hashmap[pincode].append(merchant)\n",
    "    else:\n",
    "        hashmap[pincode] =[merchant]\n",
    "\n",
    "end = time.time()\n",
    "runtime = end-start\n",
    "print(f\"runtime:{runtime} seconds\")"
   ]
  },
  {
   "cell_type": "code",
   "execution_count": 7,
   "id": "7b20a1fe",
   "metadata": {},
   "outputs": [
    {
     "name": "stdout",
     "output_type": "stream",
     "text": [
      "Merchants for PIN code 516146: ['Merchant_1', 'Merchant_2', 'Merchant_3', 'Merchant_4', 'Merchant_5', 'Merchant_6', 'Merchant_7', 'Merchant_8', 'Merchant_9', 'Merchant_10', 'Merchant_11', 'Merchant_12', 'Merchant_13', 'Merchant_14', 'Merchant_15', 'Merchant_16', 'Merchant_17', 'Merchant_18', 'Merchant_19', 'Merchant_20', 'Merchant_21', 'Merchant_22', 'Merchant_23', 'Merchant_24', 'Merchant_25', 'Merchant_26', 'Merchant_27', 'Merchant_28', 'Merchant_29', 'Merchant_30', 'Merchant_31', 'Merchant_32', 'Merchant_33', 'Merchant_34', 'Merchant_35', 'Merchant_36', 'Merchant_37', 'Merchant_38', 'Merchant_39', 'Merchant_40', 'Merchant_41', 'Merchant_42', 'Merchant_43', 'Merchant_44', 'Merchant_45', 'Merchant_46', 'Merchant_47', 'Merchant_48', 'Merchant_49', 'Merchant_50', 'Merchant_51', 'Merchant_52', 'Merchant_53', 'Merchant_54', 'Merchant_55', 'Merchant_56', 'Merchant_57', 'Merchant_58', 'Merchant_59', 'Merchant_60', 'Merchant_61', 'Merchant_62', 'Merchant_63', 'Merchant_64', 'Merchant_65', 'Merchant_66', 'Merchant_67', 'Merchant_68', 'Merchant_69', 'Merchant_70', 'Merchant_71', 'Merchant_72', 'Merchant_73', 'Merchant_74', 'Merchant_75', 'Merchant_76', 'Merchant_77', 'Merchant_78', 'Merchant_79', 'Merchant_80', 'Merchant_81', 'Merchant_82', 'Merchant_83', 'Merchant_84', 'Merchant_85', 'Merchant_86', 'Merchant_87', 'Merchant_88', 'Merchant_89', 'Merchant_90', 'Merchant_91', 'Merchant_92', 'Merchant_93', 'Merchant_94', 'Merchant_95', 'Merchant_96', 'Merchant_97', 'Merchant_98', 'Merchant_99', 'Merchant_100', 'Merchant_101', 'Merchant_102', 'Merchant_103', 'Merchant_104', 'Merchant_105', 'Merchant_106', 'Merchant_107', 'Merchant_108', 'Merchant_109', 'Merchant_110', 'Merchant_111', 'Merchant_112', 'Merchant_113', 'Merchant_114', 'Merchant_115', 'Merchant_116', 'Merchant_117', 'Merchant_118', 'Merchant_119', 'Merchant_120', 'Merchant_121', 'Merchant_122', 'Merchant_123', 'Merchant_124', 'Merchant_125', 'Merchant_126', 'Merchant_127', 'Merchant_128', 'Merchant_129', 'Merchant_130', 'Merchant_131', 'Merchant_132', 'Merchant_133', 'Merchant_134', 'Merchant_135', 'Merchant_136', 'Merchant_137', 'Merchant_138', 'Merchant_139', 'Merchant_140', 'Merchant_141', 'Merchant_142', 'Merchant_143', 'Merchant_144', 'Merchant_145', 'Merchant_146', 'Merchant_147', 'Merchant_148', 'Merchant_149', 'Merchant_150', 'Merchant_151', 'Merchant_152', 'Merchant_153', 'Merchant_154', 'Merchant_155', 'Merchant_156', 'Merchant_157', 'Merchant_158', 'Merchant_159', 'Merchant_160', 'Merchant_161', 'Merchant_162', 'Merchant_163', 'Merchant_164', 'Merchant_165', 'Merchant_166', 'Merchant_167', 'Merchant_168', 'Merchant_169', 'Merchant_170', 'Merchant_171', 'Merchant_172', 'Merchant_173', 'Merchant_174', 'Merchant_175', 'Merchant_176', 'Merchant_177', 'Merchant_178', 'Merchant_179', 'Merchant_180', 'Merchant_181', 'Merchant_182', 'Merchant_183', 'Merchant_184', 'Merchant_185', 'Merchant_186', 'Merchant_187', 'Merchant_188', 'Merchant_189', 'Merchant_190', 'Merchant_191', 'Merchant_192', 'Merchant_193', 'Merchant_194', 'Merchant_195', 'Merchant_196', 'Merchant_197', 'Merchant_198', 'Merchant_199', 'Merchant_200', 'Merchant_201', 'Merchant_202', 'Merchant_203', 'Merchant_204', 'Merchant_205', 'Merchant_206', 'Merchant_207', 'Merchant_208', 'Merchant_209', 'Merchant_210', 'Merchant_211', 'Merchant_212', 'Merchant_213', 'Merchant_214', 'Merchant_215', 'Merchant_216', 'Merchant_217', 'Merchant_218', 'Merchant_219', 'Merchant_220', 'Merchant_221', 'Merchant_222', 'Merchant_223', 'Merchant_224', 'Merchant_225', 'Merchant_226', 'Merchant_227', 'Merchant_228', 'Merchant_229', 'Merchant_230', 'Merchant_231', 'Merchant_232', 'Merchant_233', 'Merchant_234', 'Merchant_235', 'Merchant_236', 'Merchant_237', 'Merchant_238', 'Merchant_239', 'Merchant_240', 'Merchant_241', 'Merchant_242', 'Merchant_243', 'Merchant_244', 'Merchant_245', 'Merchant_246', 'Merchant_247', 'Merchant_248', 'Merchant_249', 'Merchant_250', 'Merchant_251', 'Merchant_252', 'Merchant_253', 'Merchant_254', 'Merchant_255', 'Merchant_256', 'Merchant_257', 'Merchant_258', 'Merchant_259', 'Merchant_260', 'Merchant_261', 'Merchant_262', 'Merchant_263', 'Merchant_264', 'Merchant_265', 'Merchant_266', 'Merchant_267', 'Merchant_268', 'Merchant_269', 'Merchant_270', 'Merchant_271', 'Merchant_272', 'Merchant_273', 'Merchant_274', 'Merchant_275', 'Merchant_276', 'Merchant_277', 'Merchant_278', 'Merchant_279', 'Merchant_280', 'Merchant_281', 'Merchant_282', 'Merchant_283', 'Merchant_284', 'Merchant_285', 'Merchant_286', 'Merchant_287', 'Merchant_288', 'Merchant_289', 'Merchant_290', 'Merchant_291', 'Merchant_292', 'Merchant_293', 'Merchant_294', 'Merchant_295', 'Merchant_296', 'Merchant_297', 'Merchant_298', 'Merchant_299', 'Merchant_300', 'Merchant_301', 'Merchant_302', 'Merchant_303', 'Merchant_304', 'Merchant_305', 'Merchant_306', 'Merchant_307', 'Merchant_308', 'Merchant_309', 'Merchant_310', 'Merchant_311', 'Merchant_312', 'Merchant_313', 'Merchant_314', 'Merchant_315', 'Merchant_316', 'Merchant_317', 'Merchant_318', 'Merchant_319', 'Merchant_320', 'Merchant_321', 'Merchant_322', 'Merchant_323', 'Merchant_324', 'Merchant_325', 'Merchant_326', 'Merchant_327', 'Merchant_328', 'Merchant_329', 'Merchant_330', 'Merchant_331', 'Merchant_332', 'Merchant_333', 'Merchant_334', 'Merchant_335', 'Merchant_336', 'Merchant_337', 'Merchant_338', 'Merchant_339', 'Merchant_340', 'Merchant_341', 'Merchant_342', 'Merchant_343', 'Merchant_344', 'Merchant_345', 'Merchant_346', 'Merchant_347', 'Merchant_348', 'Merchant_349', 'Merchant_350', 'Merchant_351', 'Merchant_352', 'Merchant_353', 'Merchant_354', 'Merchant_355', 'Merchant_356', 'Merchant_357', 'Merchant_358', 'Merchant_359', 'Merchant_360', 'Merchant_361', 'Merchant_362', 'Merchant_363', 'Merchant_364', 'Merchant_365', 'Merchant_366', 'Merchant_367', 'Merchant_368', 'Merchant_369', 'Merchant_370', 'Merchant_371', 'Merchant_372', 'Merchant_373', 'Merchant_374', 'Merchant_375', 'Merchant_376', 'Merchant_377', 'Merchant_378', 'Merchant_379', 'Merchant_380', 'Merchant_381', 'Merchant_382', 'Merchant_383', 'Merchant_384', 'Merchant_385', 'Merchant_386', 'Merchant_387', 'Merchant_388', 'Merchant_389', 'Merchant_390', 'Merchant_391', 'Merchant_392', 'Merchant_393', 'Merchant_394', 'Merchant_395', 'Merchant_396', 'Merchant_397', 'Merchant_398', 'Merchant_399', 'Merchant_400', 'Merchant_401', 'Merchant_402', 'Merchant_403', 'Merchant_404', 'Merchant_405', 'Merchant_406', 'Merchant_407', 'Merchant_408', 'Merchant_409', 'Merchant_410', 'Merchant_411', 'Merchant_412', 'Merchant_413', 'Merchant_414', 'Merchant_415', 'Merchant_416', 'Merchant_417', 'Merchant_418', 'Merchant_419', 'Merchant_420', 'Merchant_421', 'Merchant_422', 'Merchant_423', 'Merchant_424', 'Merchant_425', 'Merchant_426', 'Merchant_427', 'Merchant_428', 'Merchant_429', 'Merchant_430', 'Merchant_431', 'Merchant_432', 'Merchant_433', 'Merchant_434', 'Merchant_435', 'Merchant_436', 'Merchant_437', 'Merchant_438', 'Merchant_439', 'Merchant_440', 'Merchant_441', 'Merchant_442', 'Merchant_443', 'Merchant_444']\n",
      "runtime:0.0009989738464355469 seconds\n"
     ]
    }
   ],
   "source": [
    "import time\n",
    "start = time.time()\n",
    "x = 516146\n",
    "\n",
    "\n",
    "if x in hashmap:\n",
    "    reqMerchants = hashmap[x]\n",
    "    print(f\"Merchants for PIN code {x}: {reqMerchants}\")\n",
    "else:\n",
    "    print(f\"No merchants found for PIN code {x}\")\n",
    "    \n",
    "end = time.time()\n",
    "runtime = end-start\n",
    "print(f\"runtime:{runtime} seconds\")\n"
   ]
  },
  {
   "cell_type": "code",
   "execution_count": 22,
   "id": "1c7303b3",
   "metadata": {},
   "outputs": [
    {
     "name": "stdout",
     "output_type": "stream",
     "text": [
      "runtime:0.0 seconds\n"
     ]
    }
   ],
   "source": [
    "import time\n",
    "start = time.time()\n",
    "x = 945164\n",
    "hashmap[x].append('Merchant_1')\n",
    "end = time.time()\n",
    "runtime = end-start\n",
    "print(f\"runtime:{runtime} seconds\")"
   ]
  },
  {
   "cell_type": "code",
   "execution_count": 5,
   "id": "1e712a29",
   "metadata": {},
   "outputs": [
    {
     "name": "stdout",
     "output_type": "stream",
     "text": [
      "runtime:0.0 seconds\n"
     ]
    }
   ],
   "source": [
    "import time\n",
    "start = time.time()\n",
    "x = 100238\n",
    "hashmap[x]=[]\n",
    "hashmap[x].append(['Merchant_1','Merchant_456','Merchant_12','Merchant_2'])\n",
    "end = time.time()\n",
    "runtime = end-start\n",
    "print(f\"runtime:{runtime} seconds\")"
   ]
  },
  {
   "cell_type": "code",
   "execution_count": null,
   "id": "8482b478",
   "metadata": {},
   "outputs": [],
   "source": []
  }
 ],
 "metadata": {
  "kernelspec": {
   "display_name": "Python 3 (ipykernel)",
   "language": "python",
   "name": "python3"
  },
  "language_info": {
   "codemirror_mode": {
    "name": "ipython",
    "version": 3
   },
   "file_extension": ".py",
   "mimetype": "text/x-python",
   "name": "python",
   "nbconvert_exporter": "python",
   "pygments_lexer": "ipython3",
   "version": "3.11.4"
  }
 },
 "nbformat": 4,
 "nbformat_minor": 5
}
